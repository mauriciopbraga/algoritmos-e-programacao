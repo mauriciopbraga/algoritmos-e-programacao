{
  "nbformat": 4,
  "nbformat_minor": 0,
  "metadata": {
    "colab": {
      "name": "aula01.ipynb",
      "provenance": [],
      "collapsed_sections": [],
      "authorship_tag": "ABX9TyN5H1kln+i1vBTnMbTsoWi8"
    },
    "kernelspec": {
      "name": "python3",
      "display_name": "Python 3"
    }
  },
  "cells": [
    {
      "cell_type": "markdown",
      "metadata": {
        "id": "AyJ1_F_kJaEn",
        "colab_type": "text"
      },
      "source": [
        "**Aula 01 - Programação de Sistemas**"
      ]
    },
    {
      "cell_type": "code",
      "metadata": {
        "id": "BWDROj8Jzfbu",
        "colab_type": "code",
        "colab": {
          "base_uri": "https://localhost:8080/",
          "height": 34
        },
        "outputId": "d6333f15-2147-4ec7-eeca-e57c85090ec6"
      },
      "source": [
        "print(\"Olá, mundo\")"
      ],
      "execution_count": null,
      "outputs": [
        {
          "output_type": "stream",
          "text": [
            "Olá, mundo\n"
          ],
          "name": "stdout"
        }
      ]
    },
    {
      "cell_type": "code",
      "metadata": {
        "id": "Zc--yh5t6d-l",
        "colab_type": "code",
        "colab": {
          "base_uri": "https://localhost:8080/",
          "height": 51
        },
        "outputId": "94a91b46-cc99-4e5b-c135-27a215f73e7c"
      },
      "source": [
        "nome = input(\"Digite seu nome \");\n",
        "print(f\"Olá, {nome}!\");"
      ],
      "execution_count": null,
      "outputs": [
        {
          "output_type": "stream",
          "text": [
            "Digite seu nome Mauricio\n",
            "Olá, Mauricio!\n"
          ],
          "name": "stdout"
        }
      ]
    },
    {
      "cell_type": "markdown",
      "metadata": {
        "id": "c1SNzThNC97I",
        "colab_type": "text"
      },
      "source": [
        "Solicitar ao usuário o ano que ele nasceu e mostrar se o usuário é maior ou menor de idade."
      ]
    },
    {
      "cell_type": "code",
      "metadata": {
        "id": "kwz6f_w4_jiN",
        "colab_type": "code",
        "colab": {
          "base_uri": "https://localhost:8080/",
          "height": 51
        },
        "outputId": "2d428f1c-4c47-4200-c76f-4f0cdc7098cf"
      },
      "source": [
        "ano = (int(input(\"Digite o ano que nasceu: \"))); # Entrada de dados # (É Possível também converter para inteiro usando \"ano = int(ano)\")\n",
        "\n",
        "# Cálculo para descobrir a idade\n",
        "idade = 2020 - ano;\n",
        "\n",
        "if idade >= 18:\n",
        "  print(\"Você tem {} anos. Você é maior de idade!\" .format(idade));\n",
        "else:\n",
        "  print(\"Você tem {} anos. Você é menor de idade!\" .format(idade));"
      ],
      "execution_count": null,
      "outputs": [
        {
          "output_type": "stream",
          "text": [
            "Digite o ano que nasceu: 2002\n",
            "Você tem 18 anos. Você é maior de idade!\n"
          ],
          "name": "stdout"
        }
      ]
    }
  ]
}